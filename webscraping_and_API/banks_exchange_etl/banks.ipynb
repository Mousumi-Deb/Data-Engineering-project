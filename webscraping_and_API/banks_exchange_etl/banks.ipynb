{
 "cells": [
  {
   "cell_type": "markdown",
   "metadata": {},
   "source": [
    "create a code that can be used to compile the list of the top 10 largest banks in the world ranked by market capitalization in billion USD. Further, the data needs to be transformed and stored in GBP, EUR and INR as well, in accordance with the exchange rate information that has been made available to in as a CSV file. The processed information table is to be saved locally in a CSV format and as a database table.\n",
    "\n",
    "the job is to create an automated system to generate this information so that the same can be executed in every financial quarter to prepare the report."
   ]
  },
  {
   "cell_type": "code",
   "execution_count": 15,
   "metadata": {},
   "outputs": [],
   "source": [
    "#import some libraries\n",
    "import pandas as pd\n",
    "import numpy as np\n",
    "import requests\n",
    "from bs4 import BeautifulSoup\n",
    "import sqlite3\n",
    "import datetime"
   ]
  },
  {
   "cell_type": "code",
   "execution_count": 16,
   "metadata": {},
   "outputs": [],
   "source": [
    "url = \"https://en.wikipedia.org/wiki/List_of_largest_banks\"\n",
    "table_attribs = [\"Name\", \"MC_USD_Billion\",\"MC_GBP_Billion\",\"MC_EUR_Billion\",\"MC_INR_Billion\"]\n",
    "db_name = 'bank_exchange.db'\n",
    "table_name = 'Largest_banks'\n",
    "csv_path = 'C:/Users/E7440/OneDrive/Desktop/data_engineering/webscraping_and_API/banks_exchange_etl/banks_gdp.csv'"
   ]
  },
  {
   "cell_type": "code",
   "execution_count": 17,
   "metadata": {},
   "outputs": [],
   "source": [
    "#create a log function \n",
    "\n",
    "def log(message):\n",
    "    \n",
    "    timestamp_format = '%Y-%h-%d-%H:%M:%S' # Year-Monthname-Day-Hour-Minute-Second\n",
    "    now = datetime.datetime.now() # get current timestamp\n",
    "    timestamp = now.strftime(timestamp_format)\n",
    "    with open(\"logfiles.txt\",\"a\") as f:\n",
    "        f.write(timestamp + ',' + message + '\\n')"
   ]
  },
  {
   "cell_type": "code",
   "execution_count": 18,
   "metadata": {},
   "outputs": [],
   "source": [
    "# Call the function here\n",
    "def extract(url, table_attribs):\n",
    "    page = requests.get(url).text\n",
    "    soup = BeautifulSoup(page, 'html.parser')\n",
    "    df = pd.DataFrame(columns=table_attribs)\n",
    "\n",
    "    tables =soup.find_all('tbody')\n",
    "    rows = tables[0].find_all('tr')\n",
    "\n",
    "    for row in rows:\n",
    "        if row.find('td') is not None:\n",
    "            col = row.find_all('td')\n",
    "            bank_name = col[1].find_all('a')[1]['title']\n",
    "            market_cap =col[2].contents[0][:-1]\n",
    "            data_dict = {'Name':bank_name,\n",
    "                         'MC:USD_Billion':float(market_cap)}\n",
    "            df1 =pd.DataFrame(data_dict, index=[0])\n",
    "            df = pd.concat([df,df1], ignore_index=True)\n",
    "    return df"
   ]
  },
  {
   "cell_type": "code",
   "execution_count": 19,
   "metadata": {},
   "outputs": [],
   "source": [
    "# Call the function here\n",
    "def transform(df,csv_path):\n",
    "    exchange_rate = pd.read_csv(csv_path)\n",
    "    exchange_rate = exchange_rate.set_index('Currency').to_dict()['Rate']\n",
    "\n",
    "    df['MC_GBP_Billion'] = [np.round(x*exchange_rate['GBP'],2) for x in df['MC_USD_Billion']]\n",
    "    df['MC_EUR_Billion'] = [np.round(x*exchange_rate['EUR'],2) for x in df['MC_USD_Billion']]\n",
    "    df['MC_INR_Billion'] = [np.round(x*exchange_rate['INR'],2) for x in df['MC_USD_Billion']]\n",
    "\n",
    "    return df\n"
   ]
  },
  {
   "cell_type": "code",
   "execution_count": 20,
   "metadata": {},
   "outputs": [],
   "source": [
    "#load the file\n",
    "def load_to_csv(df, output_path):\n",
    "    df.to_csv(output_path)\n",
    "\n",
    "#load the databease\n",
    "def load_to_db(df,sql_connection, table_name):\n",
    "    df.to_sql(table_name, sql_connection, if_exists='replace', index=False)\n"
   ]
  },
  {
   "cell_type": "code",
   "execution_count": 21,
   "metadata": {},
   "outputs": [],
   "source": [
    "def run_query(query_statement, sql_connection):\n",
    "    ''' This function runs the stated query on the database table and\n",
    "    prints the output on the terminal. Function returns nothing. '''\n",
    "\n",
    "    print(query_statement)\n",
    "    query_output = pd.read_sql(query_statement, sql_connection)\n",
    "    print(query_output)"
   ]
  },
  {
   "cell_type": "code",
   "execution_count": 26,
   "metadata": {},
   "outputs": [
    {
     "name": "stdout",
     "output_type": "stream",
     "text": [
      "SELECT * FROM Largest_banks\n",
      "                                      Name MC_USD_Billion MC_GBP_Billion  \\\n",
      "0                           JPMorgan Chase           None           None   \n",
      "1                          Bank of America           None           None   \n",
      "2  Industrial and Commercial Bank of China           None           None   \n",
      "3                              Wells Fargo           None           None   \n",
      "4               Agricultural Bank of China           None           None   \n",
      "5                                HDFC Bank           None           None   \n",
      "6                                     HSBC           None           None   \n",
      "7                           Morgan Stanley           None           None   \n",
      "8                  China Construction Bank           None           None   \n",
      "9                            Bank of China           None           None   \n",
      "\n",
      "  MC_EUR_Billion MC_INR_Billion  MC:USD_Billion  \n",
      "0           None           None          491.76  \n",
      "1           None           None          266.45  \n",
      "2           None           None          219.45  \n",
      "3           None           None          178.74  \n",
      "4           None           None          175.69  \n",
      "5           None           None          169.84  \n",
      "6           None           None          156.13  \n",
      "7           None           None          153.05  \n",
      "8           None           None          151.97  \n",
      "9           None           None          150.39  \n",
      "SELECT AVG(MC_GBP_Billion) FROM Largest_banks\n",
      "  AVG(MC_GBP_Billion)\n",
      "0                None\n",
      "SELECT Name from Largest_banks LIMIT 5\n",
      "                                      Name\n",
      "0                           JPMorgan Chase\n",
      "1                          Bank of America\n",
      "2  Industrial and Commercial Bank of China\n",
      "3                              Wells Fargo\n",
      "4               Agricultural Bank of China\n"
     ]
    }
   ],
   "source": [
    "log('Preliminaries complete. Initiating ETL process')\n",
    "\n",
    "df = extract(url, table_attribs)\n",
    "\n",
    "log('Data extraction complete. Initiating Transformation process')\n",
    "\n",
    "log('Data transformation complete. Initiating loading process')\n",
    "\n",
    "load_to_csv(df, csv_path)\n",
    "log('Data saved to CSV file')\n",
    "\n",
    "sql_connection = sqlite3.connect('bank_exchange.db')\n",
    "\n",
    "log('SQL Connection initiated.')\n",
    "\n",
    "load_to_db(df, sql_connection,table_name)\n",
    "\n",
    "log('Data loaded to Database as table. Running the query')\n",
    "\n",
    "query_statement1 = f\"SELECT * FROM Largest_banks\"\n",
    "run_query(query_statement1, sql_connection)\n",
    "\n",
    "query_statement2 = f\"SELECT AVG(MC_GBP_Billion) FROM Largest_banks\"\n",
    "run_query(query_statement2, sql_connection)\n",
    "\n",
    "query_statement3 =f\"SELECT Name from Largest_banks LIMIT 5\"\n",
    "run_query(query_statement3, sql_connection)\n",
    "\n",
    "log('Process Complete.')\n",
    "\n",
    "sql_connection.close()"
   ]
  },
  {
   "cell_type": "code",
   "execution_count": null,
   "metadata": {},
   "outputs": [],
   "source": []
  }
 ],
 "metadata": {
  "kernelspec": {
   "display_name": "tensorflow_test",
   "language": "python",
   "name": "python3"
  },
  "language_info": {
   "codemirror_mode": {
    "name": "ipython",
    "version": 3
   },
   "file_extension": ".py",
   "mimetype": "text/x-python",
   "name": "python",
   "nbconvert_exporter": "python",
   "pygments_lexer": "ipython3",
   "version": "3.10.12"
  }
 },
 "nbformat": 4,
 "nbformat_minor": 2
}
